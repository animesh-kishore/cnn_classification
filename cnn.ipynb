{
  "nbformat": 4,
  "nbformat_minor": 0,
  "metadata": {
    "colab": {
      "name": "cnn.ipynb",
      "provenance": [],
      "toc_visible": true,
      "authorship_tag": "ABX9TyM8LA+EDrnE6U0zoXMjvlBH",
      "include_colab_link": true
    },
    "kernelspec": {
      "name": "python3",
      "display_name": "Python 3"
    },
    "language_info": {
      "name": "python"
    }
  },
  "cells": [
    {
      "cell_type": "markdown",
      "metadata": {
        "id": "view-in-github",
        "colab_type": "text"
      },
      "source": [
        "<a href=\"https://colab.research.google.com/github/ankishore/cnn_classification/blob/main/cnn.ipynb\" target=\"_parent\"><img src=\"https://colab.research.google.com/assets/colab-badge.svg\" alt=\"Open In Colab\"/></a>"
      ]
    },
    {
      "cell_type": "markdown",
      "source": [
        "# Import libraries"
      ],
      "metadata": {
        "id": "9lpZqxUDcFn3"
      }
    },
    {
      "cell_type": "code",
      "source": [
        "import tensorflow as tf\n",
        "from keras.preprocessing.image import ImageDataGenerator"
      ],
      "metadata": {
        "id": "-t6hL2c3cNtf"
      },
      "execution_count": 2,
      "outputs": []
    },
    {
      "cell_type": "code",
      "source": [
        "tf.__version__"
      ],
      "metadata": {
        "colab": {
          "base_uri": "https://localhost:8080/",
          "height": 35
        },
        "id": "YpakVNvAcrMc",
        "outputId": "783113bc-a4f3-4c81-ebaf-f5c8be052bc5"
      },
      "execution_count": 3,
      "outputs": [
        {
          "output_type": "execute_result",
          "data": {
            "text/plain": [
              "'2.8.2'"
            ],
            "application/vnd.google.colaboratory.intrinsic+json": {
              "type": "string"
            }
          },
          "metadata": {},
          "execution_count": 3
        }
      ]
    },
    {
      "cell_type": "markdown",
      "source": [
        "# Data preprocessing"
      ],
      "metadata": {
        "id": "_98XapUwc19r"
      }
    },
    {
      "cell_type": "markdown",
      "source": [
        "### Preporcessing training set"
      ],
      "metadata": {
        "id": "GNtzl35PeGwA"
      }
    },
    {
      "cell_type": "code",
      "source": [
        "train_datagen = ImageDataGenerator(rescale = 1.0/255,\n",
        "                                   shear_range = 0.2,\n",
        "                                   zoom_range = 0.2,\n",
        "                                   horizontal_flip = True)\n",
        "training_set = train_datagen.flow_from_directory('dataset/training_set',\n",
        "                                                 target_size = (64, 64),\n",
        "                                                 batch_size = 32,\n",
        "                                                 class_mode = 'binary')"
      ],
      "metadata": {
        "id": "TprLZOFGc4_Q"
      },
      "execution_count": null,
      "outputs": []
    },
    {
      "cell_type": "markdown",
      "source": [
        "### Preprocessing test set"
      ],
      "metadata": {
        "id": "0_s6b9FcfoZX"
      }
    },
    {
      "cell_type": "code",
      "source": [
        "test_datagen = ImageDataGenerator(rescale = 1.0/255)\n",
        "test_set = test_datagen.flow_from_directory('dataset/test_set',\n",
        "                                            target_size = (64, 64),\n",
        "                                            batch_size = 32,\n",
        "                                            class_mode = 'binary')"
      ],
      "metadata": {
        "id": "fdaFV-JQfv9q"
      },
      "execution_count": null,
      "outputs": []
    },
    {
      "cell_type": "markdown",
      "source": [
        "# Building CNN"
      ],
      "metadata": {
        "id": "A6URUXhghukq"
      }
    },
    {
      "cell_type": "markdown",
      "source": [
        "### Initializing CNN"
      ],
      "metadata": {
        "id": "UXxoiT6grCIt"
      }
    },
    {
      "cell_type": "code",
      "source": [
        "cnn = tf.keras.models.Sequential()"
      ],
      "metadata": {
        "id": "fsPeV_0Qhz-e"
      },
      "execution_count": 5,
      "outputs": []
    },
    {
      "cell_type": "markdown",
      "source": [
        "### Step 1 - Convolution"
      ],
      "metadata": {
        "id": "lC6eKZHlrW3L"
      }
    },
    {
      "cell_type": "code",
      "source": [
        "cnn.add(tf.keras.layers.Conv2D(filters = 32,\n",
        "                               kernel_size = 3,\n",
        "                               activation = 'relu',\n",
        "                               input_shape = [64, 64, 3]))"
      ],
      "metadata": {
        "id": "EK3wbMPlrck-"
      },
      "execution_count": 6,
      "outputs": []
    },
    {
      "cell_type": "markdown",
      "source": [
        "### Step 2 - Pooling"
      ],
      "metadata": {
        "id": "0wEcdLySwlkw"
      }
    },
    {
      "cell_type": "code",
      "source": [
        "cnn.add(tf.keras.layers.MaxPool2D(pool_size = 2,\n",
        "                                  strides = 2))"
      ],
      "metadata": {
        "id": "1MpktrDgwohP"
      },
      "execution_count": 7,
      "outputs": []
    },
    {
      "cell_type": "markdown",
      "source": [
        "### Add second convolutional layer"
      ],
      "metadata": {
        "id": "wWgRrfOexHw2"
      }
    },
    {
      "cell_type": "code",
      "source": [
        "cnn.add(tf.keras.layers.Conv2D(filters = 32,\n",
        "                               kernel_size = 3,\n",
        "                               activation = 'relu'))\n",
        "cnn.add(tf.keras.layers.MaxPool2D(pool_size = 2,\n",
        "                                  strides = 2))"
      ],
      "metadata": {
        "id": "BpXYQ_qmxOI_"
      },
      "execution_count": 8,
      "outputs": []
    },
    {
      "cell_type": "markdown",
      "source": [
        "### Step 3 - Flattening"
      ],
      "metadata": {
        "id": "Pf77Dlk1xkj9"
      }
    },
    {
      "cell_type": "code",
      "source": [
        "cnn.add(tf.keras.layers.Flatten())"
      ],
      "metadata": {
        "id": "1-R6Ubplx-5C"
      },
      "execution_count": 9,
      "outputs": []
    },
    {
      "cell_type": "markdown",
      "source": [
        "### Step 4 - Full Connection"
      ],
      "metadata": {
        "id": "dKRYFUXIybH0"
      }
    },
    {
      "cell_type": "code",
      "source": [
        "cnn.add(tf.keras.layers.Dense(units = 128,\n",
        "                              activation = 'relu'))"
      ],
      "metadata": {
        "id": "gja4bibRyfh6"
      },
      "execution_count": 10,
      "outputs": []
    },
    {
      "cell_type": "markdown",
      "source": [
        "### Step 5 - Output layer"
      ],
      "metadata": {
        "id": "xwaB5KKIyy7E"
      }
    },
    {
      "cell_type": "code",
      "source": [
        "cnn.add(tf.keras.layers.Dense(units = 1,\n",
        "                              activation = 'sigmoid'))"
      ],
      "metadata": {
        "id": "uicbGu2Ey2kz"
      },
      "execution_count": 12,
      "outputs": []
    },
    {
      "cell_type": "markdown",
      "source": [
        "# Training CNN"
      ],
      "metadata": {
        "id": "lI3s7h8ZzJ-c"
      }
    },
    {
      "cell_type": "code",
      "source": [
        ""
      ],
      "metadata": {
        "id": "vmxMijntzLyo"
      },
      "execution_count": null,
      "outputs": []
    }
  ]
}